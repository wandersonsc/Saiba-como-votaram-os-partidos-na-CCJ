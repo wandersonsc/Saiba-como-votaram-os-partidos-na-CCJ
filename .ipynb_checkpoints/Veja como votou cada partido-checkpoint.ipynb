{
 "cells": [
  {
   "cell_type": "code",
   "execution_count": 4,
   "metadata": {
    "collapsed": true
   },
   "outputs": [],
   "source": [
    "import pandas as pd\n",
    "from collections import Counter\n",
    "from bs4 import BeautifulSoup\n",
    "import requests\n",
    "%matplotlib inline"
   ]
  },
  {
   "cell_type": "code",
   "execution_count": 5,
   "metadata": {},
   "outputs": [
    {
     "data": {
      "text/plain": [
       "<matplotlib.axes._subplots.AxesSubplot at 0x2f28ada7278>"
      ]
     },
     "execution_count": 5,
     "metadata": {},
     "output_type": "execute_result"
    },
    {
     "data": {
      "image/png": "[encoded data removed]",
      "text/plain": [
       "<matplotlib.figure.Figure at 0x2f28ad8b978>"
      ]
     },
     "metadata": {},
     "output_type": "display_data"
    }
   ],
   "source": [
    "full_url = \"http://infograficos.estadao.com.br/especiais/placar/votacao/politica/?id=Qj31LbS910\"\n",
    "page = requests.get(full_url)\n",
    "soup = BeautifulSoup(page.content,\"xml\")\n",
    "\n",
    "finalValue = []\n",
    "\n",
    "data = soup.find_all(\"section\", {\"data-vote\":\"yes\"})\n",
    "\n",
    "for party in data:\n",
    "    for partyName in party.find_all(\"span\", {\"class\":\"p-org\"}):\n",
    "        finalValue.append(partyName.text)\n",
    "\n",
    "letter_counts = Counter(finalValue)\n",
    "df = pd.DataFrame({'Voto Por Partido':letter_counts})\n",
    "df.plot(kind=\"bar\", \n",
    "                figsize=(8,8),\n",
    "                color=\"lightskyblue\",\n",
    "                title=\"Votos a Favor do Parecer\",\n",
    "                stacked=True)\n",
    "#df.plot.bar()"
   ]
  },
  {
   "cell_type": "markdown",
   "metadata": {
    "collapsed": true
   },
   "source": [
    "# 1. Series \n",
    "## 1.1 Value_counts()"
   ]
  },
  {
   "cell_type": "code",
   "execution_count": 8,
   "metadata": {},
   "outputs": [],
   "source": [
    "countPaties = pd.Series(finalValue)"
   ]
  },
  {
   "cell_type": "code",
   "execution_count": 9,
   "metadata": {},
   "outputs": [
    {
     "data": {
      "text/plain": [
       "PT       8\n",
       "PSDB     5\n",
       "PDT      2\n",
       "PSB      2\n",
       "PSOL     1\n",
       "REDE     1\n",
       "DEM      1\n",
       "PMDB     1\n",
       "PCdoB    1\n",
       "PPS      1\n",
       "dtype: int64"
      ]
     },
     "execution_count": 9,
     "metadata": {},
     "output_type": "execute_result"
    }
   ],
   "source": [
    "countPaties.value_counts()"
   ]
  }
 ],
 "metadata": {
  "kernelspec": {
   "display_name": "Python 3",
   "language": "python",
   "name": "python3"
  },
  "language_info": {
   "codemirror_mode": {
    "name": "ipython",
    "version": 3
   },
   "file_extension": ".py",
   "mimetype": "text/x-python",
   "name": "python",
   "nbconvert_exporter": "python",
   "pygments_lexer": "ipython3",
   "version": "3.6.1"
  }
 },
 "nbformat": 4,
 "nbformat_minor": 2
}
