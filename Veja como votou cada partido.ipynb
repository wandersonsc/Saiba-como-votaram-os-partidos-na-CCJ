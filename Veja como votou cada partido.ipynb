{
 "cells": [
  {
   "cell_type": "code",
   "execution_count": 4,
   "metadata": {
    "collapsed": true
   },
   "outputs": [],
   "source": [
    "import pandas as pd\n",
    "from collections import Counter\n",
    "from bs4 import BeautifulSoup\n",
    "import requests\n",
    "%matplotlib inline"
   ]
  },
  {
   "cell_type": "code",
   "execution_count": 9,
   "metadata": {},
   "outputs": [
    {
     "data": {
      "text/plain": [
       "<matplotlib.axes._subplots.AxesSubplot at 0x196b18858d0>"
      ]
     },
     "execution_count": 9,
     "metadata": {},
     "output_type": "execute_result"
    },
    {
     "data": {
      "image/png": "[encoded data removed]",
      "text/plain": [
       "<matplotlib.figure.Figure at 0x196b161a588>"
      ]
     },
     "metadata": {},
     "output_type": "display_data"
    }
   ],
   "source": [
    "full_url = \"http://infograficos.estadao.com.br/especiais/placar/votacao/politica/?id=Qj31LbS910\"\n",
    "page = requests.get(full_url)\n",
    "soup = BeautifulSoup(page.content,\"xml\")\n",
    "\n",
    "finalValue = []\n",
    "\n",
    "data = soup.find_all(\"section\", {\"data-vote\":\"yes\"})\n",
    "\n",
    "for party in data:\n",
    "    for partyName in party.find_all(\"span\", {\"class\":\"p-org\"}):\n",
    "        finalValue.append(partyName.text)\n",
    "\n",
    "letter_counts = Counter(finalValue)\n",
    "df = pd.DataFrame({'Voto Por Partido':letter_counts})\n",
    "df.plot(kind=\"bar\", \n",
    "                figsize=(8,8),\n",
    "                color=\"lightskyblue\",\n",
    "                title=\"Votos a Favor do Parecer\",\n",
    "                stacked=True)\n",
    "#df.plot.bar()"
   ]
  },
  {
   "cell_type": "code",
   "execution_count": null,
   "metadata": {
    "collapsed": true
   },
   "outputs": [],
   "source": []
  },
  {
   "cell_type": "code",
   "execution_count": null,
   "metadata": {
    "collapsed": true
   },
   "outputs": [],
   "source": []
  }
 ],
 "metadata": {
  "kernelspec": {
   "display_name": "Python 3",
   "language": "python",
   "name": "python3"
  },
  "language_info": {
   "codemirror_mode": {
    "name": "ipython",
    "version": 3
   },
   "file_extension": ".py",
   "mimetype": "text/x-python",
   "name": "python",
   "nbconvert_exporter": "python",
   "pygments_lexer": "ipython3",
   "version": "3.6.1"
  }
 },
 "nbformat": 4,
 "nbformat_minor": 2
}
