{
 "cells": [
  {
   "cell_type": "code",
   "execution_count": 30,
   "metadata": {
    "collapsed": true
   },
   "outputs": [],
   "source": [
    "import pandas as pd\n",
    "from collections import Counter\n",
    "from bs4 import BeautifulSoup\n",
    "import requests\n",
    "%matplotlib inline"
   ]
  },
  {
   "cell_type": "code",
   "execution_count": 31,
   "metadata": {},
   "outputs": [
    {
     "data": {
      "text/plain": [
       "<matplotlib.axes._subplots.AxesSubplot at 0x15a0c1f4860>"
      ]
     },
     "execution_count": 31,
     "metadata": {},
     "output_type": "execute_result"
    },
    {
     "data": {
      "image/png": "[encoded data removed]",
      "text/plain": [
       "<matplotlib.figure.Figure at 0x15a0c33bf28>"
      ]
     },
     "metadata": {},
     "output_type": "display_data"
    }
   ],
   "source": [
    "full_url = \"http://infograficos.estadao.com.br/especiais/placar/votacao/politica/?id=Qj31LbS910\"\n",
    "page = requests.get(full_url)\n",
    "soup = BeautifulSoup(page.content,\"xml\")\n",
    "\n",
    "itens1 = []\n",
    "itens2 = []\n",
    "\n",
    "data = soup.find_all(\"section\", {\"data-vote\":\"yes\"})\n",
    "\n",
    "for party in data:\n",
    "    for partyName in party.find_all(\"span\", {\"class\":\"p-org\"}):\n",
    "        itens1.append(partyName.text)\n",
    "        \n",
    "for state in data: #find states\n",
    "    for stateName in state.find_all(\"span\", {\"class\":\"p-region\"}):\n",
    "        itens2.append(stateName.text)\n",
    "\n",
    "letter_counts = Counter(itens1)\n",
    "df = pd.DataFrame({'Por partido':letter_counts})\n",
    "df.plot(kind=\"bar\", \n",
    "                figsize=(8,8),\n",
    "                color=\"lightskyblue\",\n",
    "                title=\"21 A favor do parecer\",\n",
    "                stacked=True)\n",
    "#df.plot.bar()\n",
    "     \n",
    "\n"
   ]
  },
  {
   "cell_type": "code",
   "execution_count": 53,
   "metadata": {
    "collapsed": true
   },
   "outputs": [],
   "source": [
    "arr = np.random.rand(60,2)\n",
    "arr\n",
    "\n",
    "df = pd.DataFrame(arr, columns=[\"A\",\"B\"])\n",
    "\n",
    "\n",
    "\n",
    "\n",
    "\n",
    "\n",
    "\n",
    "\n",
    "\n",
    "\n",
    "\n",
    "\n",
    "\n",
    "\n",
    "\n",
    "\n",
    "\n",
    "\n",
    "\n",
    "\n",
    "\n",
    "\n"
   ]
  },
  {
   "cell_type": "code",
   "execution_count": null,
   "metadata": {
    "collapsed": true
   },
   "outputs": [],
   "source": []
  }
 ],
 "metadata": {
  "kernelspec": {
   "display_name": "Python 3",
   "language": "python",
   "name": "python3"
  },
  "language_info": {
   "codemirror_mode": {
    "name": "ipython",
    "version": 3
   },
   "file_extension": ".py",
   "mimetype": "text/x-python",
   "name": "python",
   "nbconvert_exporter": "python",
   "pygments_lexer": "ipython3",
   "version": "3.6.1"
  }
 },
 "nbformat": 4,
 "nbformat_minor": 2
}
